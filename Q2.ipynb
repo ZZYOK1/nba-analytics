{
 "cells": [
  {
   "cell_type": "code",
   "execution_count": 18,
   "id": "initial_id",
   "metadata": {
    "collapsed": true,
    "ExecuteTime": {
     "end_time": "2024-04-30T20:01:52.390605Z",
     "start_time": "2024-04-30T20:01:52.375915Z"
    }
   },
   "outputs": [],
   "source": [
    "import pandas as pd\n",
    "from sklearn.preprocessing import StandardScaler\n",
    "from sklearn.naive_bayes import GaussianNB\n",
    "from sklearn.model_selection import train_test_split\n",
    "from sklearn.svm import SVC\n",
    "from sklearn.cluster import KMeans\n",
    "\n",
    "# Data loading and processing\n",
    "\n",
    "all_nba_data = pd.read_csv(\"2024_ALL_NBA_Player_Advanced.csv\")\n",
    "okc_data = pd.read_csv(\"2024 OKC Advanced.csv\")\n",
    "\n",
    "all_nba_data.fillna(0, inplace=True)\n",
    "okc_data.fillna(0, inplace=True)\n"
   ]
  },
  {
   "cell_type": "code",
   "execution_count": 19,
   "outputs": [],
   "source": [
    "# Feature selection and Standardization\n",
    "\n",
    "features = ['PER', 'TS%', '3PAr', 'FTr', 'ORB%', 'DRB%', 'TRB%', 'AST%', 'STL%', 'BLK%', 'TOV%', 'USG%', 'WS', 'BPM']\n",
    "\n",
    "scaler = StandardScaler()\n",
    "all_nba_scaled = scaler.fit_transform(all_nba_data[features])\n",
    "okc_scaled = scaler.transform(okc_data[features])"
   ],
   "metadata": {
    "collapsed": false,
    "ExecuteTime": {
     "end_time": "2024-04-30T20:01:53.718723Z",
     "start_time": "2024-04-30T20:01:53.714972Z"
    }
   },
   "id": "113bd8ce00376a6d"
  },
  {
   "cell_type": "code",
   "execution_count": 20,
   "outputs": [],
   "source": [
    "# Naive Bayes Classifier\n",
    "\n",
    "# Prepare labels for Naive Bayes (Thunder players as 1, others as 0)\n",
    "y = (all_nba_data['Tm'] == 'OKC').astype(int)\n",
    "X_train, X_test, y_train, y_test = train_test_split(all_nba_scaled, y, test_size=0.2, random_state=42)\n",
    "\n",
    "nb = GaussianNB()\n",
    "nb.fit(X_train, y_train)\n",
    "y_pred = nb.predict(X_test)\n"
   ],
   "metadata": {
    "collapsed": false,
    "ExecuteTime": {
     "end_time": "2024-04-30T20:01:55.239189Z",
     "start_time": "2024-04-30T20:01:55.237630Z"
    }
   },
   "id": "a28a8edca31ca8f4"
  },
  {
   "cell_type": "code",
   "execution_count": 21,
   "outputs": [],
   "source": [
    "# Support Vector Machine setup\n",
    "\n",
    "svm = SVC(kernel='linear')\n",
    "svm.fit(X_train, y_train)\n",
    "svm_predictions = svm.predict(all_nba_scaled)\n",
    "best_fits_svm = all_nba_data.iloc[svm_predictions == 1]['Player']\n"
   ],
   "metadata": {
    "collapsed": false,
    "ExecuteTime": {
     "end_time": "2024-04-30T20:01:56.798458Z",
     "start_time": "2024-04-30T20:01:56.779549Z"
    }
   },
   "id": "2e64fa2e4042fe80"
  },
  {
   "cell_type": "code",
   "execution_count": 22,
   "outputs": [],
   "source": [
    "# K-Means Clustering\n",
    "\n",
    "kmeans = KMeans(n_clusters=5, random_state=42)\n",
    "kmeans.fit(all_nba_scaled)\n",
    "clusters = kmeans.labels_\n",
    "okc_cluster = kmeans.predict(okc_scaled)\n",
    "selected_players_cluster = all_nba_data.iloc[clusters == okc_cluster[0]]['Player']\n"
   ],
   "metadata": {
    "collapsed": false,
    "ExecuteTime": {
     "end_time": "2024-04-30T20:01:58.174314Z",
     "start_time": "2024-04-30T20:01:58.165173Z"
    }
   },
   "id": "cf2e0ac186347ca2"
  },
  {
   "cell_type": "code",
   "execution_count": 23,
   "outputs": [
    {
     "name": "stdout",
     "output_type": "stream",
     "text": [
      "Best fits from SVM: []\n",
      "Players similar to OKC style from Clustering: ['Kyle Anderson', 'Giannis Antetokounmpo', 'Cole Anthony', 'Deni Avdija', 'LaMelo Ball', 'Paolo Banchero', 'Desmond Bane', 'Scottie Barnes', 'RJ Barrett', 'Bradley Beal', 'Devin Booker', 'Mikal Bridges', 'Malcolm Brogdon', 'Jaylen Brown', 'Jalen Brunson', 'Jimmy Butler', 'Mike Conley', 'Cade Cunningham', 'Stephen Curry', 'JD Davison', 'Dexter Dennis', 'DeMar DeRozan', 'Luka Dončić', 'Kevin Durant', 'Anthony Edwards', 'Joel Embiid', \"De'Aaron Fox\", 'Darius Garland', 'Paul George', 'Josh Giddey', 'Shai Gilgeous-Alexander', 'Aaron Gordon', 'Jerami Grant', 'RaiQuan Gray', 'Draymond Green', 'Jalen Green', 'Tyrese Haliburton', 'James Harden', 'Tobias Harris', 'Tyler Herro', 'Jrue Holiday', 'Brandon Ingram', 'Kyrie Irving', 'Jaren Jackson Jr.', 'LeBron James', 'Nikola Jokić', 'Tre Jones', 'Tyus Jones', 'Jonathan Kuminga', 'Kyle Kuzma', 'Kawhi Leonard', 'Caris LeVert', 'Damian Lillard', 'Lauri Markkanen', 'Tyrese Maxey', 'CJ McCollum', 'T.J. McConnell', 'Khris Middleton', 'Donovan Mitchell', 'Malik Monk', 'Ja Morant', 'Dejounte Murray', 'Jamal Murray', 'Kelly Olynyk', 'Chris Paul', 'Scotty Pippen Jr.', 'Craig Porter Jr.', 'Immanuel Quickley', 'Julius Randle', 'Austin Reaves', 'Ryan Rollins', 'Terry Rozier', \"D'Angelo Russell\", 'Domantas Sabonis', 'Dario Šarić', 'Alperen Sengun', 'Collin Sexton', 'Pascal Siakam', 'Anfernee Simons', 'Jayson Tatum', 'Cam Thomas']\n"
     ]
    }
   ],
   "source": [
    "# Output \n",
    "\n",
    "print(\"Best fits from SVM:\", best_fits_svm.tolist())\n",
    "print(\"Players similar to OKC style from Clustering:\", selected_players_cluster.tolist())"
   ],
   "metadata": {
    "collapsed": false,
    "ExecuteTime": {
     "end_time": "2024-04-30T20:01:59.988068Z",
     "start_time": "2024-04-30T20:01:59.983487Z"
    }
   },
   "id": "744369989ecc0eef"
  },
  {
   "cell_type": "code",
   "execution_count": 31,
   "outputs": [
    {
     "name": "stdout",
     "output_type": "stream",
     "text": [
      "['Grayson Allen', 'Harrison Barnes', 'Donte DiVincenzo', 'Luguentz Dort', 'Josh Giddey', 'Shai Gilgeous-Alexander', 'Sam Hauser', 'Chet Holmgren', 'Isaiah Joe', 'Keyontae Johnson', 'Brook Lopez', 'Trey Murphy III', 'Aaron Nesmith', 'Kristaps Porziņģis', 'Norman Powell', 'Olivier Sarr', 'Kyle Anderson', 'Giannis Antetokounmpo', 'Cole Anthony', 'Deni Avdija', 'LaMelo Ball', 'Paolo Banchero', 'Desmond Bane', 'Scottie Barnes', 'RJ Barrett', 'Bradley Beal', 'Devin Booker', 'Mikal Bridges', 'Malcolm Brogdon', 'Jaylen Brown', 'Jalen Brunson', 'Jimmy Butler', 'Mike Conley', 'Cade Cunningham', 'Stephen Curry', 'JD Davison', 'Dexter Dennis', 'DeMar DeRozan', 'Luka Dončić', 'Kevin Durant', 'Anthony Edwards', 'Joel Embiid', \"De'Aaron Fox\", 'Darius Garland', 'Paul George', 'Josh Giddey', 'Shai Gilgeous-Alexander', 'Aaron Gordon', 'Jerami Grant', 'RaiQuan Gray', 'Draymond Green', 'Jalen Green', 'Tyrese Haliburton', 'James Harden', 'Tobias Harris', 'Tyler Herro', 'Jrue Holiday', 'Brandon Ingram', 'Kyrie Irving', 'Jaren Jackson Jr.', 'LeBron James', 'Nikola Jokić', 'Tre Jones', 'Tyus Jones', 'Jonathan Kuminga', 'Kyle Kuzma', 'Kawhi Leonard', 'Caris LeVert', 'Damian Lillard', 'Lauri Markkanen', 'Tyrese Maxey', 'CJ McCollum', 'T.J. McConnell', 'Khris Middleton', 'Donovan Mitchell', 'Malik Monk', 'Ja Morant', 'Dejounte Murray', 'Jamal Murray', 'Kelly Olynyk', 'Chris Paul', 'Scotty Pippen Jr.', 'Craig Porter Jr.', 'Immanuel Quickley', 'Julius Randle', 'Austin Reaves', 'Ryan Rollins', 'Terry Rozier', \"D'Angelo Russell\", 'Domantas Sabonis', 'Dario Šarić', 'Alperen Sengun', 'Collin Sexton', 'Pascal Siakam', 'Anfernee Simons', 'Jayson Tatum', 'Cam Thomas']\n"
     ]
    }
   ],
   "source": [
    "svm = SVC(kernel='rbf', class_weight='balanced', C=10, gamma='scale')\n",
    "svm.fit(X_train, y_train)\n",
    "\n",
    "svm_predictions = svm.predict(all_nba_scaled)\n",
    "best_fits_svm = all_nba_data.iloc[svm_predictions == 1]['Player']\n",
    "\n",
    "okc_target_players = list(best_fits_svm) + list(selected_players_cluster)\n",
    "print(okc_target_players)\n"
   ],
   "metadata": {
    "collapsed": false,
    "ExecuteTime": {
     "end_time": "2024-04-30T20:34:31.597170Z",
     "start_time": "2024-04-30T20:34:31.590092Z"
    }
   },
   "id": "c4ee96b063d85837"
  },
  {
   "cell_type": "code",
   "execution_count": 35,
   "outputs": [
    {
     "data": {
      "text/plain": "['Mike Conley',\n 'Malik Monk',\n 'Kyle Anderson',\n 'Tyrese Maxey',\n 'Immanuel Quickley',\n 'Kelly Olynyk',\n 'Pascal Siakam',\n 'Grayson Allen',\n 'Jrue Holiday',\n 'Tobias Harris',\n 'James Harden',\n 'Tyus Jones',\n 'DeMar DeRozan',\n 'Dario Šarić']"
     },
     "execution_count": 35,
     "metadata": {},
     "output_type": "execute_result"
    }
   ],
   "source": [
    "salaries_data = pd.read_csv(\"nba_salaries.csv\")\n",
    "salaries_data.columns = salaries_data.iloc[0]\n",
    "salaries_data = salaries_data[1:]\n",
    "\n",
    "players_with_no_salary_2024_25 = salaries_data[salaries_data['2024-25'].isna()]['Player'].tolist()\n",
    "players_with_no_salary_2024_25\n",
    "\n",
    "intersection_players = list(set(players_with_no_salary_2024_25) & set(okc_target_players))\n",
    "intersection_players"
   ],
   "metadata": {
    "collapsed": false,
    "ExecuteTime": {
     "end_time": "2024-04-30T20:37:04.072165Z",
     "start_time": "2024-04-30T20:37:04.067027Z"
    }
   },
   "id": "695ff7aaf25e90b5"
  }
 ],
 "metadata": {
  "kernelspec": {
   "display_name": "Python 3",
   "language": "python",
   "name": "python3"
  },
  "language_info": {
   "codemirror_mode": {
    "name": "ipython",
    "version": 2
   },
   "file_extension": ".py",
   "mimetype": "text/x-python",
   "name": "python",
   "nbconvert_exporter": "python",
   "pygments_lexer": "ipython2",
   "version": "2.7.6"
  }
 },
 "nbformat": 4,
 "nbformat_minor": 5
}
