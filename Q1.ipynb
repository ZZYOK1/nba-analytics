{
 "cells": [
  {
   "cell_type": "code",
   "execution_count": 19,
   "outputs": [
    {
     "name": "stderr",
     "output_type": "stream",
     "text": [
      "/var/folders/60/4pm0cms92nxg2ttn34jwc9800000gn/T/ipykernel_30053/1305161885.py:18: SettingWithCopyWarning: \n",
      "A value is trying to be set on a copy of a slice from a DataFrame.\n",
      "Try using .loc[row_indexer,col_indexer] = value instead\n",
      "\n",
      "See the caveats in the documentation: https://pandas.pydata.org/pandas-docs/stable/user_guide/indexing.html#returning-a-view-versus-a-copy\n",
      "  okc_rookies['2024-25'] = pd.to_numeric(okc_rookies['2024-25'].str.replace('[\\$,]', '', regex=True), errors='coerce')\n"
     ]
    }
   ],
   "source": [
    "import pandas as pd\n",
    "\n",
    "okc_basic = pd.read_csv('2024 OKC Basic.csv')\n",
    "okc_advanced = pd.read_csv('2024 OKC Advanced.csv')\n",
    "nba_salaries = pd.read_csv('nba_salaries.csv')\n",
    "\n",
    "nba_salaries.columns = nba_salaries.iloc[0]\n",
    "nba_salaries = nba_salaries[1:]\n",
    "okc_rookies = nba_salaries[(nba_salaries['Tm'] == 'OKC') & \n",
    "                           (nba_salaries['2024-25'].notna()) & \n",
    "                           (nba_salaries['2025-26'].isna())]\n",
    "\n",
    "okc_rookies['2024-25'] = pd.to_numeric(okc_rookies['2024-25'].str.replace('[\\$,]', '', regex=True), errors='coerce')\n",
    "\n",
    "rookies_names = okc_rookies['Player'].tolist()\n",
    "\n",
    "okc_basic_rookies = okc_basic[okc_basic['Player'].isin(rookies_names)]\n",
    "okc_advanced_rookies = okc_advanced[okc_advanced['Player'].isin(rookies_names)]\n",
    "combined_rookies_stats = pd.concat([okc_basic_rookies.set_index('Player'), okc_advanced_rookies.set_index('Player')], axis=1)\n",
    "\n",
    "combined_rookies_stats.reset_index(inplace=True)\n",
    "output_file_path = 'OKC_Rookies.csv'\n",
    "combined_rookies_stats.to_csv(output_file_path,index=False)\n"
   ],
   "metadata": {
    "collapsed": false,
    "ExecuteTime": {
     "end_time": "2024-05-03T22:20:11.071301Z",
     "start_time": "2024-05-03T22:20:11.053698Z"
    }
   },
   "id": "4fd9efb9ac8fdda8"
  },
  {
   "cell_type": "code",
   "execution_count": 20,
   "outputs": [],
   "source": [
    "import pandas as pd\n",
    "\n",
    "draft_2016_data = pd.read_csv('NBA_Draft_2016.csv')\n",
    "draft_2017_data = pd.read_csv('NBA_Draft_2017.csv')\n",
    "draft_2018_data = pd.read_csv('NBA_Draft_2018.csv')\n",
    "salaries_data = pd.read_csv('nba_salaries.csv')\n",
    "\n",
    "def clean_dataset(data):\n",
    "    data.columns = data.iloc[0]  \n",
    "    return data.drop(0).reset_index(drop=True)\n",
    "\n",
    "draft_2016_data = clean_dataset(draft_2016_data)\n",
    "draft_2017_data = clean_dataset(draft_2017_data)\n",
    "draft_2018_data = clean_dataset(draft_2018_data)\n",
    "salaries_data = clean_dataset(salaries_data)\n",
    "salaries_data_relevant = salaries_data[['Player', '2023-24']]\n",
    "\n",
    "merged_2016 = pd.merge(draft_2016_data, salaries_data_relevant, on='Player', how='inner')\n",
    "merged_2017 = pd.merge(draft_2017_data, salaries_data_relevant, on='Player', how='inner')\n",
    "merged_2018 = pd.merge(draft_2018_data, salaries_data_relevant, on='Player', how='inner')\n",
    "concatenated_data = pd.concat([merged_2016, merged_2017, merged_2018], ignore_index=True)\n",
    "output_file_path = 'Merged_NBA_Drafts_and_Salaries_2016_2018.csv'\n",
    "concatenated_data.to_csv(output_file_path,index=False)"
   ],
   "metadata": {
    "collapsed": false,
    "ExecuteTime": {
     "end_time": "2024-05-03T22:22:37.258335Z",
     "start_time": "2024-05-03T22:22:37.242023Z"
    }
   },
   "id": "f7521c85a4c1c470"
  },
  {
   "cell_type": "code",
   "execution_count": 27,
   "outputs": [
    {
     "name": "stdout",
     "output_type": "stream",
     "text": [
      "[ 8545056.01139248  9566838.36250267 10406023.72065276 11845816.24960353]\n"
     ]
    }
   ],
   "source": [
    "import pandas as pd\n",
    "from sklearn.model_selection import train_test_split\n",
    "from sklearn.preprocessing import StandardScaler\n",
    "from sklearn.linear_model import LinearRegression\n",
    "from sklearn.impute import SimpleImputer\n",
    "import numpy as np\n",
    "\n",
    "okc_rookies_data = pd.read_csv('OKC_Rookies.csv')\n",
    "training_data = pd.read_csv('Merged_NBA_Drafts_and_Salaries_2016_2018.csv')\n",
    "features = ['G', 'MP', 'PTS', 'TRB', 'AST', 'FG%', '3P%', 'FT%', 'WS', 'WS/48', 'BPM', 'VORP']\n",
    "target = '2023-24'\n",
    "\n",
    "training_data[target] = training_data[target].replace('[\\$,]', '', regex=True).astype(float)\n",
    "imputer = SimpleImputer(strategy='median')\n",
    "training_data_imputed = imputer.fit_transform(training_data[features + [target]])\n",
    "okc_rookies_data_imputed = imputer.fit_transform(okc_rookies_data[features])\n",
    "\n",
    "X = training_data_imputed[:, :-1]  \n",
    "y = training_data_imputed[:, -1]  \n",
    "\n",
    "X_train, X_test, y_train, y_test = train_test_split(X, y, test_size=0.2, random_state=42)\n",
    "scaler = StandardScaler()\n",
    "X_train_scaled = scaler.fit_transform(X_train)\n",
    "X_test_scaled = scaler.transform(X_test)\n",
    "okc_scaled = scaler.transform(okc_rookies_data_imputed)\n",
    "\n",
    "model = LinearRegression()\n",
    "model.fit(X_train_scaled, y_train)\n",
    "predicted_salaries = model.predict(okc_scaled)\n",
    "print(predicted_salaries)\n"
   ],
   "metadata": {
    "collapsed": false,
    "ExecuteTime": {
     "end_time": "2024-05-03T22:31:57.064265Z",
     "start_time": "2024-05-03T22:31:57.048964Z"
    }
   },
   "id": "c7bf5b610ec2ed4f"
  },
  {
   "cell_type": "markdown",
   "source": [],
   "metadata": {
    "collapsed": false
   },
   "id": "3e96d0bbec22d231"
  }
 ],
 "metadata": {
  "kernelspec": {
   "display_name": "Python 3",
   "language": "python",
   "name": "python3"
  },
  "language_info": {
   "codemirror_mode": {
    "name": "ipython",
    "version": 2
   },
   "file_extension": ".py",
   "mimetype": "text/x-python",
   "name": "python",
   "nbconvert_exporter": "python",
   "pygments_lexer": "ipython2",
   "version": "2.7.6"
  }
 },
 "nbformat": 4,
 "nbformat_minor": 5
}
